{
 "cells": [
  {
   "cell_type": "code",
   "execution_count": 2,
   "metadata": {
    "collapsed": true
   },
   "outputs": [
    {
     "name": "stdout",
     "output_type": "stream",
     "text": [
      "\n",
      "Model Info\n",
      "\n",
      "  FMI Version        2.0\n",
      "  FMI Type           Co-Simulation\n",
      "  Model Name         plant\n",
      "  Description        \n",
      "  Platforms          win32, win64\n",
      "  Continuous States  0\n",
      "  Event Indicators   1\n",
      "  Variables          253\n",
      "  Generation Tool    DSHplus 3.14-dev | time limited +\n",
      "  Generation Date    2022-02-22T22:24:54Z\n",
      "\n",
      "Default Experiment\n",
      "\n",
      "  Stop Time          1.0\n",
      "  Tolerance          1e-06\n",
      "\n",
      "Variables (input, output)\n",
      "\n",
      "  Name               Causality              Start Value  Unit     Description\n",
      "  position           output                                       SignalAusgang1_Output0\n",
      "  Schaltventil1      input                          0.0           SignalEingang1_Input0\n",
      "  Servoventil        input                          0.0           SignalEingang1_Input1\n",
      "  Schaltventil2      input                          0.0           SignalEingang1_Input2\n"
     ]
    },
    {
     "ename": "Exception",
     "evalue": "The FMU cannot be simulated on the current platform (darwin64).",
     "output_type": "error",
     "traceback": [
      "\u001B[0;31m---------------------------------------------------------------------------\u001B[0m",
      "\u001B[0;31mException\u001B[0m                                 Traceback (most recent call last)",
      "Input \u001B[0;32mIn [2]\u001B[0m, in \u001B[0;36m<cell line: 5>\u001B[0;34m()\u001B[0m\n\u001B[1;32m      3\u001B[0m fmu \u001B[38;5;241m=\u001B[39m \u001B[38;5;124m'\u001B[39m\u001B[38;5;124mplant.fmu\u001B[39m\u001B[38;5;124m'\u001B[39m\n\u001B[1;32m      4\u001B[0m fmpy\u001B[38;5;241m.\u001B[39mdump(fmu)  \u001B[38;5;66;03m# get information\u001B[39;00m\n\u001B[0;32m----> 5\u001B[0m res \u001B[38;5;241m=\u001B[39m \u001B[43mfmpy\u001B[49m\u001B[38;5;241;43m.\u001B[39;49m\u001B[43msimulate_fmu\u001B[49m\u001B[43m(\u001B[49m\u001B[43mfmu\u001B[49m\u001B[43m)\u001B[49m\n",
      "File \u001B[0;32m~/.conda/envs/rlenv/lib/python3.9/site-packages/fmpy/simulation.py:637\u001B[0m, in \u001B[0;36msimulate_fmu\u001B[0;34m(filename, validate, start_time, stop_time, solver, step_size, relative_tolerance, output_interval, record_events, fmi_type, start_values, apply_default_start_values, input, output, timeout, debug_logging, visible, logger, fmi_call_logger, step_finished, model_description, fmu_instance, set_input_derivatives, remote_platform, early_return_allowed, use_event_mode)\u001B[0m\n\u001B[1;32m    634\u001B[0m can_sim, remote_platform \u001B[38;5;241m=\u001B[39m can_simulate(platforms, remote_platform)\n\u001B[1;32m    636\u001B[0m \u001B[38;5;28;01mif\u001B[39;00m \u001B[38;5;129;01mnot\u001B[39;00m can_sim:\n\u001B[0;32m--> 637\u001B[0m     \u001B[38;5;28;01mraise\u001B[39;00m \u001B[38;5;167;01mException\u001B[39;00m(\u001B[38;5;124mf\u001B[39m\u001B[38;5;124m\"\u001B[39m\u001B[38;5;124mThe FMU cannot be simulated on the current platform (\u001B[39m\u001B[38;5;132;01m{\u001B[39;00mplatform\u001B[38;5;132;01m}\u001B[39;00m\u001B[38;5;124m).\u001B[39m\u001B[38;5;124m\"\u001B[39m)\n\u001B[1;32m    639\u001B[0m \u001B[38;5;28;01mif\u001B[39;00m model_description \u001B[38;5;129;01mis\u001B[39;00m \u001B[38;5;28;01mNone\u001B[39;00m:\n\u001B[1;32m    640\u001B[0m     model_description \u001B[38;5;241m=\u001B[39m read_model_description(filename, validate\u001B[38;5;241m=\u001B[39mvalidate)\n",
      "\u001B[0;31mException\u001B[0m: The FMU cannot be simulated on the current platform (darwin64)."
     ]
    }
   ],
   "source": [
    "import fmpy\n",
    "#import pyfmi\n",
    "fmu = 'plant.fmu'\n",
    "fmpy.dump(fmu)  # get information\n",
    "res = fmpy.simulate_fmu(fmu)\n",
    "#model = pyfmi.load_fmu(fmu)\n",
    "#model.get_model_variables()"
   ]
  },
  {
   "cell_type": "code",
   "execution_count": null,
   "outputs": [],
   "source": [],
   "metadata": {
    "collapsed": false,
    "pycharm": {
     "name": "#%%\n"
    }
   }
  },
  {
   "cell_type": "code",
   "execution_count": null,
   "outputs": [],
   "source": [],
   "metadata": {
    "collapsed": false,
    "pycharm": {
     "name": "#%%\n"
    }
   }
  }
 ],
 "metadata": {
  "kernelspec": {
   "display_name": "Python 3",
   "language": "python",
   "name": "python3"
  },
  "language_info": {
   "codemirror_mode": {
    "name": "ipython",
    "version": 2
   },
   "file_extension": ".py",
   "mimetype": "text/x-python",
   "name": "python",
   "nbconvert_exporter": "python",
   "pygments_lexer": "ipython2",
   "version": "2.7.6"
  }
 },
 "nbformat": 4,
 "nbformat_minor": 0
}