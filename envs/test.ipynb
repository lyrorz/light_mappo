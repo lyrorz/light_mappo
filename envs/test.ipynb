{
 "cells": [
  {
   "cell_type": "code",
   "execution_count": 9,
   "outputs": [],
   "source": [
    "import fmpy\n",
    "import shutil\n",
    "import numpy as np\n",
    "\n",
    "#fmpy.dump(fmu)  # get information\n",
    "#res = fmpy.simulate_fmu(fmu)\n"
   ],
   "metadata": {
    "collapsed": false,
    "pycharm": {
     "name": "#%%\n"
    }
   }
  },
  {
   "cell_type": "code",
   "execution_count": 10,
   "outputs": [],
   "source": [
    "# define the model name and simulation parameters\n",
    "fmu_filename = 'plant.fmu'\n",
    "start_time = 0.0\n",
    "#threshold = 2.0\n",
    "stop_time = 20.0\n",
    "step_size = 0.1\n",
    "\n",
    "# read the model description\n",
    "model_description = fmpy.read_model_description(fmu_filename)\n",
    "\n",
    "#collect the value reference\n",
    "vrs = {}\n",
    "for variable in model_description.modelVariables:\n",
    "    vrs[variable.name] = variable.valueReference\n",
    "\n",
    "# get the value references for the variables we want to get/set\n",
    "vr_servoventil = vrs['servoventil']\n",
    "vr_schaltventil1 = vrs['schaltventil1']\n",
    "vr_schaltventil2 = vrs['schaltventil2']\n",
    "vr_position = vrs['position']\n",
    "\n",
    "# extract the FMU\n",
    "unzipdir = fmpy.extract(fmu_filename)\n"
   ],
   "metadata": {
    "collapsed": false,
    "pycharm": {
     "name": "#%%\n"
    }
   }
  },
  {
   "cell_type": "code",
   "execution_count": 11,
   "outputs": [],
   "source": [
    "\n",
    "fmu = fmpy.fmi2.FMU2Slave(guid=model_description.guid,\n",
    "                    unzipDirectory=unzipdir,\n",
    "                    modelIdentifier=model_description.coSimulation.modelIdentifier,\n",
    "                    instanceName='instance1')\n",
    "\n",
    "# initialize\n",
    "fmu.instantiate()\n",
    "fmu.setupExperiment(startTime=start_time)\n",
    "fmu.enterInitializationMode()\n",
    "fmu.exitInitializationMode()\n",
    "time  = start_time\n",
    "rows = []\n",
    "\n",
    "# simulation loop\n"
   ],
   "metadata": {
    "collapsed": false,
    "pycharm": {
     "name": "#%%\n"
    }
   }
  },
  {
   "cell_type": "code",
   "execution_count": 12,
   "outputs": [
    {
     "data": {
      "text/plain": "<Figure size 576x432 with 4 Axes>",
      "image/png": "[encoded data removed]"
     },
     "metadata": {},
     "output_type": "display_data"
    }
   ],
   "source": [
    "while time<stop_time:\n",
    "    # NOTE: the FMU.get*() and FMU.set*() functions take lists of\n",
    "    # value references as arguments and return lists of values\n",
    "\n",
    "    # set the input\n",
    "    fmu.setReal([vr_servoventil,vr_schaltventil1,vr_schaltventil2],[-1,1,0])\n",
    "\n",
    "    # perform one step\n",
    "    fmu.doStep(currentCommunicationPoint=time, communicationStepSize=step_size)\n",
    "\n",
    "    # advance the time\n",
    "    time += step_size\n",
    "\n",
    "    # get the values for 'inputs' and 'outputs[4]'\n",
    "    schaltventil1, servoventil, schaltventil2, position = fmu.getReal([vr_schaltventil1,vr_servoventil,vr_schaltventil2,vr_position])\n",
    "\n",
    "    # append the results\n",
    "    rows.append((time, schaltventil1, servoventil,schaltventil2,position))\n",
    "\n",
    "    # use the threshold to terminate the simulation\n",
    "    '''if outputs4 > threshold:\n",
    "        print(\"Threshold reached at t = %g s\" % time)\n",
    "        break'''\n",
    "\n",
    "fmu.terminate()\n",
    "fmu.freeInstance()\n",
    "\n",
    "# clean up\n",
    "shutil.rmtree(unzipdir, ignore_errors=True)\n",
    "\n",
    "# convert the results to a structured NumPy array\n",
    "result = np.array(rows, dtype=np.dtype([('time', np.float64),\n",
    "                                        ('servoventil1', np.float64), ('servoventil', np.float64), ('schaltventil2', np.float64),\n",
    "                                        ('position', np.float64)]))\n",
    "\n",
    "# plot the results\n",
    "#if show_plot:\n",
    "    #plot_result(result)\n",
    "\n",
    "#return time\n",
    "fmpy.util.plot_result(result)\n"
   ],
   "metadata": {
    "collapsed": false,
    "pycharm": {
     "name": "#%%\n"
    }
   }
  },
  {
   "cell_type": "markdown",
   "source": [],
   "metadata": {
    "collapsed": false
   }
  }
 ],
 "metadata": {
  "kernelspec": {
   "display_name": "Python 3",
   "language": "python",
   "name": "python3"
  },
  "language_info": {
   "codemirror_mode": {
    "name": "ipython",
    "version": 2
   },
   "file_extension": ".py",
   "mimetype": "text/x-python",
   "name": "python",
   "nbconvert_exporter": "python",
   "pygments_lexer": "ipython2",
   "version": "2.7.6"
  }
 },
 "nbformat": 4,
 "nbformat_minor": 0
}